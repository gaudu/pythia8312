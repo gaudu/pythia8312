{
 "cells": [
  {
   "cell_type": "code",
   "execution_count": 36,
   "id": "649ac52f",
   "metadata": {},
   "outputs": [],
   "source": [
    "import glob\n",
    "import numpy as np\n",
    "from particle import Particle\n",
    "import os"
   ]
  },
  {
   "cell_type": "markdown",
   "id": "24d8b02d",
   "metadata": {},
   "source": [
    "`path_templ = \"/home/maximilian/corsika/modules/data/Pythia/pythia8311_xsec/main1010_{projectile}_{target}_1e{logE}_*.dat\"`"
   ]
  },
  {
   "cell_type": "code",
   "execution_count": 37,
   "id": "7bc3dcb7",
   "metadata": {},
   "outputs": [],
   "source": [
    "path_templ = \"/home/gaudu/PYTHIA/pythia8312/examples/xsec_pythia8312/main1011_{projectile}_{target}_1e{logE}_10000.dat\""
   ]
  },
  {
   "cell_type": "code",
   "execution_count": 38,
   "id": "1591b008",
   "metadata": {},
   "outputs": [],
   "source": [
    "projectiles = {\n",
    "    #\"p\": 2212,\n",
    "    #\"n\": 2112,\n",
    "    #\"ap\": -2212,\n",
    "    #\"an\": -2112,\n",
    "    #\"pi0\": 111,\n",
    "    #\"pip\": 211,\n",
    "    #\"pim\": -211,\n",
    "    #\"k0\": 311,\n",
    "    #\"kp\": 321,\n",
    "    #\"km\": -321,\n",
    "    #\"k0s\": 310,\n",
    "    #\"k0l\": 130,\n",
    "    #\"lambda0\": 3122,\n",
    "    #\"sigma0\": 3212,\n",
    "    #\"sigmam\": 3112,\n",
    "    #\"sigmap\": 3222,\n",
    "    #\"xi0\": 3322\n",
    "    \"4He\": 1000020040,\n",
    "    \"14N\": 1000070140,\n",
    "    \"56Fe\": 1000260560\n",
    "}\n",
    "\n",
    "targets = {\n",
    "    #\"1H\": 2212,\n",
    "    #\"12C\": 1000060120,\n",
    "    \"14N\": 1000070140\n",
    "    #\"16O\": 1000080160,\n",
    "    #\"40Ar\": 1000180400\n",
    "}\n",
    "\n",
    "proj_pdg_to_str = dict((v, k) for k, v in projectiles.items())\n",
    "target_pdg_to_str = dict((v, k) for k, v in targets.items())\n",
    "\n",
    "energies = range(2, 13)"
   ]
  },
  {
   "cell_type": "code",
   "execution_count": 39,
   "id": "691cf6d6",
   "metadata": {},
   "outputs": [],
   "source": [
    "def format_path(proj, targ, logE):\n",
    "    return path_templ.format(projectile=proj_pdg_to_str[proj], target=target_pdg_to_str[targ], logE=str(logE))"
   ]
  },
  {
   "cell_type": "code",
   "execution_count": 40,
   "id": "50fcc4f6",
   "metadata": {},
   "outputs": [],
   "source": [
    "dtype = np.dtype([\n",
    "    (\"elab\", np.float32),\n",
    "    (\"sig_tot\", np.float32),\n",
    "    (\"err_tot\", np.float32),\n",
    "    (\"sig_nd\", np.float32),\n",
    "    (\"err_nd\", np.float32),\n",
    "    (\"sig_el\", np.float32),\n",
    "    (\"err_el\", np.float32),\n",
    "    (\"sig_XB\", np.float32),\n",
    "    (\"err_XB\", np.float32),\n",
    "    (\"sig_AX\", np.float32),\n",
    "    (\"err_AX\", np.float32),\n",
    "    (\"sig_XX\", np.float32),\n",
    "    (\"err_XX\", np.float32),\n",
    "    (\"sig_inel\", np.float32),\n",
    "    (\"err_inel\", np.float32)\n",
    "])"
   ]
  },
  {
   "cell_type": "code",
   "execution_count": 45,
   "id": "08b4a0c1",
   "metadata": {},
   "outputs": [],
   "source": [
    "particle_data = {}\n",
    "for proj_pdg in projectiles.values():\n",
    "    projectile = Particle.from_pdgid(proj_pdg)\n",
    "    for target_pdg in targets.values():\n",
    "        table = np.zeros(len(energies), dtype=dtype)\n",
    "        for i, logE in enumerate(energies):\n",
    "            path = format_path(proj_pdg, target_pdg, logE)\n",
    "            #print(path)\n",
    "            gl = glob.glob(path)\n",
    "            if not gl:\n",
    "                print(f\"No files found for path: {path}\")\n",
    "                continue\n",
    "            with open(next(iter(gl)), \"rt\") as f:\n",
    "                data = dict()\n",
    "                for l in f:\n",
    "                    key, val = l.split()\n",
    "                    try:\n",
    "                        data[key] = int(val)\n",
    "                    except ValueError:\n",
    "                        data[key] = float(val)\n",
    "            #print(f\"Target ID in file: {data['targ_id']}, Expected: {target_pdg}\")\n",
    "            #print(f\"Projectile ID in file: {data['proj_id']}, Expected: {proj_pdg}\")\n",
    "            assert(data[\"targ_id\"] == target_pdg)\n",
    "            assert(data[\"proj_id\"] == proj_pdg)\n",
    "            for key, val in data.items():\n",
    "                if key in dtype.fields:\n",
    "                    table[i][key] = float(val)\n",
    "        particle_data[(proj_pdg), (target_pdg)] = table\n",
    "        d = {key: particle_data[(proj_pdg), (target_pdg)][key] for key in dtype.fields}\n",
    "        np.savez(f\"xs_{proj_pdg}_{target_pdg}.npz\", **d)\n"
   ]
  },
  {
   "cell_type": "code",
   "execution_count": 42,
   "id": "c301b2c1",
   "metadata": {},
   "outputs": [],
   "source": [
    "import matplotlib.pyplot as plt\n",
    "from matplotlib.backends.backend_pdf import PdfPages"
   ]
  },
  {
   "cell_type": "code",
   "execution_count": 43,
   "id": "f85ab746",
   "metadata": {},
   "outputs": [],
   "source": [
    "with PdfPages(\"xs.pdf\") as pdf:\n",
    "    for (projectile, target), dataset in particle_data.items():\n",
    "        fig, ax = plt.subplots(figsize=(4,3))\n",
    "        ax.set(xscale=\"log\")\n",
    "        for field in dtype.fields:\n",
    "            if not field.startswith(\"e\"):\n",
    "                ax.plot(dataset['elab'], dataset[field], \"o-\", label=str(field))\n",
    "        ax.text(.5, .98, f\"(${Particle.from_pdgid(projectile).latex_name}$:${target}$)\",\n",
    "                ha=\"center\", va=\"top\", transform=ax.transAxes)\n",
    "        ax.legend(loc=\"upper left\", fontsize=\"small\", handlelength=1.2)\n",
    "        fig.tight_layout()\n",
    "        pdf.savefig(fig)\n",
    "        plt.close(fig)"
   ]
  },
  {
   "cell_type": "code",
   "execution_count": 44,
   "id": "adee25a3",
   "metadata": {},
   "outputs": [
    {
     "data": {
      "text/plain": [
       "{'elab': array([1.e+02, 1.e+03, 1.e+04, 1.e+05, 1.e+06, 1.e+07, 1.e+08, 1.e+09,\n",
       "        1.e+10, 1.e+11, 1.e+12], dtype=float32),\n",
       " 'sig_tot': array([1827.48, 1934.97, 1995.21, 2068.45, 2172.48, 2291.38, 2378.78,\n",
       "        2544.83, 2665.23, 2834.39, 2990.7 ], dtype=float32),\n",
       " 'err_tot': array([0.297098, 0.310011, 0.320508, 0.331972, 0.346118, 0.363489,\n",
       "        0.378215, 0.400676, 0.420227, 0.445466, 0.469545], dtype=float32),\n",
       " 'sig_nd': array([1698.88, 1751.44, 1811.63, 1859.65, 1965.39, 2088.43, 2191.52,\n",
       "        2341.45, 2460.61, 2603.97, 2775.49], dtype=float32),\n",
       " 'err_nd': array([0.3012  , 0.315671, 0.324952, 0.337798, 0.351406, 0.368761,\n",
       "        0.382734, 0.405168, 0.424607, 0.450893, 0.474018], dtype=float32),\n",
       " 'sig_el': array([0.444022, 0.      , 0.58291 , 0.      , 0.300565, 0.267956,\n",
       "        1.20511 , 1.03149 , 2.29647 , 4.12175 , 5.21079 ], dtype=float32),\n",
       " 'err_el': array([25.1251,  0.    , 32.5423,  0.    , 47.0804, 41.7899, 23.6771,\n",
       "        30.8462, 24.6301, 17.5908, 17.3412], dtype=float32),\n",
       " 'sig_XB': array([ 59.9004,  81.845 ,  74.8551,  86.3979,  92.1324,  96.3486,\n",
       "         84.3879,  85.4343,  89.4331, 110.36  ,  96.7212], dtype=float32),\n",
       " 'err_XB': array([2.25739, 2.06362, 2.40437, 2.25168, 2.41131, 2.5236 , 2.91367,\n",
       "        3.22429, 3.35035, 3.25784, 3.81417], dtype=float32),\n",
       " 'sig_AX': array([ 54.5948,  81.5946,  88.7969, 102.575 , 100.247 ,  90.4474,\n",
       "         90.4943, 103.409 ,  99.2225, 105.361 , 101.863 ], dtype=float32),\n",
       " 'err_AX': array([2.35304, 2.10797, 2.16866, 2.11335, 2.27232, 2.58312, 2.74647,\n",
       "        2.84539, 3.1543 , 3.28916, 3.72056], dtype=float32),\n",
       " 'sig_XX': array([13.6572, 20.0983, 19.3411, 19.8259, 14.4113, 15.8838, 11.1685,\n",
       "        13.5083, 13.6721, 10.5773, 11.4121], dtype=float32),\n",
       " 'err_XX': array([4.51363, 3.85911, 4.22065, 4.41261, 5.42085, 5.64362, 7.20518,\n",
       "        7.20322, 7.86703, 9.51106, 9.78174], dtype=float32),\n",
       " 'sig_inel': array([1827.03,    0.  , 1994.62,    0.  , 2172.18, 2291.11, 2377.57,\n",
       "        2543.8 , 2662.94, 2830.26, 2985.49], dtype=float32),\n",
       " 'err_inel': array([25.1269,  0.    , 32.5438,  0.    , 47.0817, 41.7915, 23.6802,\n",
       "        30.8488, 24.6337, 17.5965, 17.3476], dtype=float32)}"
      ]
     },
     "execution_count": 44,
     "metadata": {},
     "output_type": "execute_result"
    }
   ],
   "source": [
    "{key: particle_data[(proj_pdg), (target_pdg)][key] for key in dtype.fields}"
   ]
  }
 ],
 "metadata": {
  "kernelspec": {
   "display_name": "Python 3 (ipykernel)",
   "language": "python",
   "name": "python3"
  },
  "language_info": {
   "codemirror_mode": {
    "name": "ipython",
    "version": 3
   },
   "file_extension": ".py",
   "mimetype": "text/x-python",
   "name": "python",
   "nbconvert_exporter": "python",
   "pygments_lexer": "ipython3",
   "version": "3.10.12"
  }
 },
 "nbformat": 4,
 "nbformat_minor": 5
}
